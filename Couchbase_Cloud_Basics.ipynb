{
  "nbformat": 4,
  "nbformat_minor": 0,
  "metadata": {
    "colab": {
      "provenance": [],
      "authorship_tag": "ABX9TyMoW/U58W/BGt6CaZLkoojj"
    },
    "kernelspec": {
      "name": "python3",
      "display_name": "Python 3"
    },
    "language_info": {
      "name": "python"
    }
  },
  "cells": [
    {
      "cell_type": "code",
      "execution_count": null,
      "metadata": {
        "id": "fJMw-FxwTkpQ"
      },
      "outputs": [],
      "source": [
        "# Couchbase expirements"
      ]
    },
    {
      "cell_type": "code",
      "source": [
        "# Install dependencies\n",
        "!pip install couchbase"
      ],
      "metadata": {
        "colab": {
          "base_uri": "https://localhost:8080/"
        },
        "id": "GF_6EA1SbAq9",
        "outputId": "3dfaeb7c-edff-413c-89b2-3e1564e266f5"
      },
      "execution_count": 1,
      "outputs": [
        {
          "output_type": "stream",
          "name": "stdout",
          "text": [
            "Collecting couchbase\n",
            "  Downloading couchbase-4.3.5-cp311-cp311-manylinux2014_x86_64.manylinux_2_17_x86_64.whl.metadata (23 kB)\n",
            "Downloading couchbase-4.3.5-cp311-cp311-manylinux2014_x86_64.manylinux_2_17_x86_64.whl (5.0 MB)\n",
            "\u001b[2K   \u001b[90m━━━━━━━━━━━━━━━━━━━━━━━━━━━━━━━━━━━━━━━━\u001b[0m \u001b[32m5.0/5.0 MB\u001b[0m \u001b[31m20.1 MB/s\u001b[0m eta \u001b[36m0:00:00\u001b[0m\n",
            "\u001b[?25hInstalling collected packages: couchbase\n",
            "Successfully installed couchbase-4.3.5\n"
          ]
        }
      ]
    },
    {
      "cell_type": "code",
      "source": [
        "# Verify couchbase working\n",
        "import couchbase\n",
        "print(couchbase.__version__)"
      ],
      "metadata": {
        "colab": {
          "base_uri": "https://localhost:8080/"
        },
        "id": "ZrswXekUbLnj",
        "outputId": "88f27852-37b2-45f9-ddfb-5684c52ae04b"
      },
      "execution_count": 2,
      "outputs": [
        {
          "output_type": "stream",
          "name": "stdout",
          "text": [
            "4.3.5\n"
          ]
        }
      ]
    },
    {
      "cell_type": "code",
      "source": [
        "import socket\n",
        "\n",
        "def get_colab_ip():\n",
        "    s = socket.socket(socket.AF_INET, socket.SOCK_DGRAM)\n",
        "    try:\n",
        "        # Doesn't even have to be reachable\n",
        "        s.connect(('10.255.255.255', 1))\n",
        "        IP = s.getsockname()[0]\n",
        "    except Exception:\n",
        "        IP = '127.0.0.1'\n",
        "    finally:\n",
        "        s.close()\n",
        "    return IP\n",
        "\n",
        "colab_ip = get_colab_ip()\n",
        "print(f\"Colab's IP Address: {colab_ip}\")"
      ],
      "metadata": {
        "colab": {
          "base_uri": "https://localhost:8080/"
        },
        "id": "_WXNptRSeYwd",
        "outputId": "01ede170-8e2f-478d-b2d0-5fa5eaca24a6"
      },
      "execution_count": 5,
      "outputs": [
        {
          "output_type": "stream",
          "name": "stdout",
          "text": [
            "Colab's IP Address: 172.28.0.12\n"
          ]
        }
      ]
    },
    {
      "cell_type": "code",
      "source": [
        "from google.colab import userdata\n",
        "from couchbase.cluster import Cluster\n",
        "from couchbase.auth import PasswordAuthenticator\n",
        "from couchbase.options import ClusterOptions\n",
        "\n",
        "# For test configuring Couchbase cluster online to accept incoming connection from anywhere (Warning: Never do this for actual setup!)\n",
        "# Retrieve credentials from Google Secrets\n",
        "try:\n",
        "    username = userdata.get('COUCHBASE_USERNAME')\n",
        "    password = userdata.get('COUCHBASE_PASSWORD')\n",
        "    cluster_address = userdata.get('COUCHBASE_CLUSTER')\n",
        "    bucket_name = userdata.get('COUCHBASE_BUCKET')\n",
        "    scope_name = \"inventory\"\n",
        "    collection_name = \"airline\"\n",
        "\n",
        "    # Check if any of the secrets are None\n",
        "    if not all([username, password, cluster_address, bucket_name]):\n",
        "        raise ValueError(\"One or more Couchbase credentials not found in Google Secrets.\")\n",
        "\n",
        "except KeyError as e:\n",
        "    raise KeyError(f\"Required secret not found in Google Secrets: {e}\")\n",
        "\n",
        "# Connect to Couchbase\n",
        "try:\n",
        "    cluster = Cluster(\n",
        "        cluster_address,\n",
        "        ClusterOptions(PasswordAuthenticator(username, password))\n",
        "    )\n",
        "\n",
        "    bucket = cluster.bucket(bucket_name)\n",
        "    print(\"Successfully connected to Couchbase!\")\n",
        "\n",
        "    # Example: Access the default collection\n",
        "    default_collection = bucket.default_collection()\n",
        "    print(\"Successfully accessed the default collection.\")\n",
        "\n",
        "    # You can now perform Couchbase operations here\n",
        "    # For example, to insert a document:\n",
        "    # result = default_collection.insert(\"mydocument\", {\"name\": \"example\"})\n",
        "    # print(result)\n",
        "\n",
        "except Exception as e:\n",
        "    print(f\"Error connecting to Couchbase: {e}\")"
      ],
      "metadata": {
        "colab": {
          "base_uri": "https://localhost:8080/"
        },
        "id": "XapL9U4JbSK9",
        "outputId": "bc7ef205-5491-4de6-ade5-97c1b87cd795"
      },
      "execution_count": 9,
      "outputs": [
        {
          "output_type": "stream",
          "name": "stdout",
          "text": [
            "Successfully connected to Couchbase!\n",
            "Successfully accessed the default collection.\n"
          ]
        }
      ]
    },
    {
      "cell_type": "code",
      "source": [
        "# Get a reference to a scope\n",
        "scope = bucket.scope(\"inventory\")\n",
        "\n",
        "# Get a reference to a collection\n",
        "collection = scope.collection(\"airline\")\n",
        "\n",
        "# N1QL query to limit the number of rows returned\n",
        "query = f\"SELECT META().id, * FROM `{bucket_name}`.`{scope_name}`.`{collection_name}` LIMIT 10\"\n",
        "\n",
        "try:\n",
        "    # Execute the query\n",
        "    result = cluster.query(query)\n",
        "\n",
        "    # Iterate through the results and print the document ID and content\n",
        "    for row in result:\n",
        "        print(f\"Document ID: {row['id']}\")  # Access the document ID\n",
        "        print(f\"Document Content: {row}\")  # Print the entire document content\n",
        "        print(\"-\" * 20)\n",
        "\n",
        "except Exception as e:\n",
        "    print(f\"Error executing query: {e}\")\n"
      ],
      "metadata": {
        "colab": {
          "base_uri": "https://localhost:8080/"
        },
        "id": "irLM3BxXgb7w",
        "outputId": "daaad823-d02d-48f4-f50c-58bc189f06c3"
      },
      "execution_count": 10,
      "outputs": [
        {
          "output_type": "stream",
          "name": "stdout",
          "text": [
            "Document ID: airline_10\n",
            "Document Content: {'airline': {'callsign': 'MILE-AIR', 'country': 'United States', 'iata': 'Q5', 'icao': 'MLA', 'id': 10, 'name': '40-Mile Air', 'type': 'airline'}, 'id': 'airline_10'}\n",
            "--------------------\n",
            "Document ID: airline_10123\n",
            "Document Content: {'airline': {'callsign': 'TXW', 'country': 'United States', 'iata': 'TQ', 'icao': 'TXW', 'id': 10123, 'name': 'Texas Wings', 'type': 'airline'}, 'id': 'airline_10123'}\n",
            "--------------------\n",
            "Document ID: airline_10226\n",
            "Document Content: {'airline': {'callsign': 'atifly', 'country': 'United States', 'iata': 'A1', 'icao': 'A1F', 'id': 10226, 'name': 'Atifly', 'type': 'airline'}, 'id': 'airline_10226'}\n",
            "--------------------\n",
            "Document ID: airline_10642\n",
            "Document Content: {'airline': {'callsign': None, 'country': 'United Kingdom', 'iata': None, 'icao': 'JRB', 'id': 10642, 'name': 'Jc royal.britannica', 'type': 'airline'}, 'id': 'airline_10642'}\n",
            "--------------------\n",
            "Document ID: airline_10748\n",
            "Document Content: {'airline': {'callsign': 'LOCAIR', 'country': 'United States', 'iata': 'ZQ', 'icao': 'LOC', 'id': 10748, 'name': 'Locair', 'type': 'airline'}, 'id': 'airline_10748'}\n",
            "--------------------\n",
            "Document ID: airline_10765\n",
            "Document Content: {'airline': {'callsign': 'SASQUATCH', 'country': 'United States', 'iata': 'K5', 'icao': 'SQH', 'id': 10765, 'name': 'SeaPort Airlines', 'type': 'airline'}, 'id': 'airline_10765'}\n",
            "--------------------\n",
            "Document ID: airline_109\n",
            "Document Content: {'airline': {'callsign': 'ACE AIR', 'country': 'United States', 'iata': 'KO', 'icao': 'AER', 'id': 109, 'name': 'Alaska Central Express', 'type': 'airline'}, 'id': 'airline_109'}\n",
            "--------------------\n",
            "Document ID: airline_112\n",
            "Document Content: {'airline': {'callsign': 'FLYSTAR', 'country': 'United Kingdom', 'iata': '5W', 'icao': 'AEU', 'id': 112, 'name': 'Astraeus', 'type': 'airline'}, 'id': 'airline_112'}\n",
            "--------------------\n",
            "Document ID: airline_1191\n",
            "Document Content: {'airline': {'callsign': 'REUNION', 'country': 'France', 'iata': 'UU', 'icao': 'REU', 'id': 1191, 'name': 'Air Austral', 'type': 'airline'}, 'id': 'airline_1191'}\n",
            "--------------------\n",
            "Document ID: airline_1203\n",
            "Document Content: {'airline': {'callsign': 'AIRLINAIR', 'country': 'France', 'iata': 'A5', 'icao': 'RLA', 'id': 1203, 'name': 'Airlinair', 'type': 'airline'}, 'id': 'airline_1203'}\n",
            "--------------------\n"
          ]
        }
      ]
    }
  ]
}